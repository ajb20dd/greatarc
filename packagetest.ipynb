{
 "cells": [
  {
   "cell_type": "code",
   "execution_count": 14,
   "metadata": {},
   "outputs": [
    {
     "name": "stdout",
     "output_type": "stream",
     "text": [
      "Note: you may need to restart the kernel to use updated packages.Collecting git+https://github.com/ajb20dd/greatarc.git\n",
      "  Cloning https://github.com/ajb20dd/greatarc.git to c:\\users\\alexb\\appdata\\local\\temp\\pip-req-build-ks8nayzh\n",
      "  Resolved https://github.com/ajb20dd/greatarc.git to commit e1adf3fda5e3978e801eff79b24430efa6387507\n",
      "  Preparing metadata (setup.py): started\n",
      "  Preparing metadata (setup.py): finished with status 'done'\n",
      "\n"
     ]
    },
    {
     "name": "stderr",
     "output_type": "stream",
     "text": [
      "  Running command git clone --filter=blob:none --quiet https://github.com/ajb20dd/greatarc.git 'C:\\Users\\alexb\\AppData\\Local\\Temp\\pip-req-build-ks8nayzh'\n"
     ]
    }
   ],
   "source": [
    "pip install git+https://github.com/ajb20dd/greatarc.git"
   ]
  },
  {
   "cell_type": "code",
   "execution_count": 1,
   "metadata": {},
   "outputs": [],
   "source": [
    "from greatarc import Location"
   ]
  },
  {
   "cell_type": "code",
   "execution_count": 2,
   "metadata": {},
   "outputs": [
    {
     "data": {
      "text/plain": [
       "'1.71 km'"
      ]
     },
     "execution_count": 2,
     "metadata": {},
     "output_type": "execute_result"
    }
   ],
   "source": [
    "# Creating two POIs\n",
    "poi1 = Location(\"State Capitol\", 30.4383, -84.2807)\n",
    "poi2 = Location(\"Union\", 30.4445, -84.2970)\n",
    "\n",
    "# Calculating distance between them\n",
    "distance = poi1.calculate_distance(poi2, unit = \"km\")\n",
    "\n",
    "distance"
   ]
  },
  {
   "cell_type": "code",
   "execution_count": 3,
   "metadata": {},
   "outputs": [
    {
     "data": {
      "text/plain": [
       "'1.71 km'"
      ]
     },
     "execution_count": 3,
     "metadata": {},
     "output_type": "execute_result"
    }
   ],
   "source": [
    "# Creating two POIs\n",
    "poi1 = Location(\"State Capitol\", 30.4383, -84.2807)\n",
    "poi2 = Location(\"Union\", 30.4445, -84.2970)\n",
    "\n",
    "# Calculating distance between them\n",
    "distance = poi1.calculate_distance(poi2)\n",
    "\n",
    "distance"
   ]
  },
  {
   "cell_type": "markdown",
   "metadata": {},
   "source": [
    "when unit is specified as \"km\" or unspecified, returns distance in km (2 float accuracy)"
   ]
  },
  {
   "cell_type": "code",
   "execution_count": 4,
   "metadata": {},
   "outputs": [
    {
     "data": {
      "text/plain": [
       "'1.06 mi'"
      ]
     },
     "execution_count": 4,
     "metadata": {},
     "output_type": "execute_result"
    }
   ],
   "source": [
    "# Creating two POIs\n",
    "poi1 = Location(\"State Capitol\", 30.4383, -84.2807)\n",
    "poi2 = Location(\"Union\", 30.4445, -84.2970)\n",
    "\n",
    "# Calculating distance between them\n",
    "distance = poi1.calculate_distance(poi2, unit = \"mi\")\n",
    "\n",
    "distance"
   ]
  },
  {
   "cell_type": "code",
   "execution_count": 5,
   "metadata": {},
   "outputs": [
    {
     "data": {
      "text/plain": [
       "'1.06 miles'"
      ]
     },
     "execution_count": 5,
     "metadata": {},
     "output_type": "execute_result"
    }
   ],
   "source": [
    "# Creating two POIs\n",
    "poi1 = Location(\"State Capitol\", 30.4383, -84.2807)\n",
    "poi2 = Location(\"Union\", 30.4445, -84.2970)\n",
    "\n",
    "# Calculating distance between them\n",
    "distance = poi1.calculate_distance(poi2, unit = \"miles\")\n",
    "\n",
    "distance"
   ]
  },
  {
   "cell_type": "markdown",
   "metadata": {},
   "source": [
    "when unit is specified as \"miles\" or \"mi\", returns distance in mi (2 float accuracy)"
   ]
  },
  {
   "cell_type": "code",
   "execution_count": 6,
   "metadata": {},
   "outputs": [
    {
     "ename": "ValueError",
     "evalue": "Invalid unit 'meters'. Please use one of the following: km, kilometers, miles, mi.",
     "output_type": "error",
     "traceback": [
      "\u001b[1;31m---------------------------------------------------------------------------\u001b[0m",
      "\u001b[1;31mValueError\u001b[0m                                Traceback (most recent call last)",
      "Cell \u001b[1;32mIn[6], line 6\u001b[0m\n\u001b[0;32m      3\u001b[0m poi2 \u001b[38;5;241m=\u001b[39m Location(\u001b[38;5;124m\"\u001b[39m\u001b[38;5;124mUnion\u001b[39m\u001b[38;5;124m\"\u001b[39m, \u001b[38;5;241m30.4445\u001b[39m, \u001b[38;5;241m-\u001b[39m\u001b[38;5;241m84.2970\u001b[39m)\n\u001b[0;32m      5\u001b[0m \u001b[38;5;66;03m# Calculating distance between them\u001b[39;00m\n\u001b[1;32m----> 6\u001b[0m distance \u001b[38;5;241m=\u001b[39m \u001b[43mpoi1\u001b[49m\u001b[38;5;241;43m.\u001b[39;49m\u001b[43mcalculate_distance\u001b[49m\u001b[43m(\u001b[49m\u001b[43mpoi2\u001b[49m\u001b[43m,\u001b[49m\u001b[43m \u001b[49m\u001b[43munit\u001b[49m\u001b[43m \u001b[49m\u001b[38;5;241;43m=\u001b[39;49m\u001b[43m \u001b[49m\u001b[38;5;124;43m\"\u001b[39;49m\u001b[38;5;124;43mmeters\u001b[39;49m\u001b[38;5;124;43m\"\u001b[39;49m\u001b[43m)\u001b[49m\n\u001b[0;32m      8\u001b[0m distance\n",
      "File \u001b[1;32mc:\\Users\\alexb\\Documents\\GIS5103\\greatarc\\greatarc\\location.py:28\u001b[0m, in \u001b[0;36mLocation.calculate_distance\u001b[1;34m(self, other_location, unit)\u001b[0m\n\u001b[0;32m     26\u001b[0m valid_units \u001b[38;5;241m=\u001b[39m [\u001b[38;5;124m\"\u001b[39m\u001b[38;5;124mkm\u001b[39m\u001b[38;5;124m\"\u001b[39m, \u001b[38;5;124m\"\u001b[39m\u001b[38;5;124mkilometers\u001b[39m\u001b[38;5;124m\"\u001b[39m, \u001b[38;5;124m\"\u001b[39m\u001b[38;5;124mmiles\u001b[39m\u001b[38;5;124m\"\u001b[39m, \u001b[38;5;124m\"\u001b[39m\u001b[38;5;124mmi\u001b[39m\u001b[38;5;124m\"\u001b[39m]\n\u001b[0;32m     27\u001b[0m \u001b[38;5;28;01mif\u001b[39;00m unit\u001b[38;5;241m.\u001b[39mlower() \u001b[38;5;129;01mnot\u001b[39;00m \u001b[38;5;129;01min\u001b[39;00m valid_units:\n\u001b[1;32m---> 28\u001b[0m     \u001b[38;5;28;01mraise\u001b[39;00m \u001b[38;5;167;01mValueError\u001b[39;00m(\u001b[38;5;124mf\u001b[39m\u001b[38;5;124m\"\u001b[39m\u001b[38;5;124mInvalid unit \u001b[39m\u001b[38;5;124m'\u001b[39m\u001b[38;5;132;01m{\u001b[39;00munit\u001b[38;5;132;01m}\u001b[39;00m\u001b[38;5;124m'\u001b[39m\u001b[38;5;124m. Please use one of the following: \u001b[39m\u001b[38;5;132;01m{\u001b[39;00m\u001b[38;5;124m'\u001b[39m\u001b[38;5;124m, \u001b[39m\u001b[38;5;124m'\u001b[39m\u001b[38;5;241m.\u001b[39mjoin(valid_units)\u001b[38;5;132;01m}\u001b[39;00m\u001b[38;5;124m.\u001b[39m\u001b[38;5;124m\"\u001b[39m)\n\u001b[0;32m     30\u001b[0m \u001b[38;5;28;01mif\u001b[39;00m unit\u001b[38;5;241m.\u001b[39mlower() \u001b[38;5;129;01min\u001b[39;00m [\u001b[38;5;124m\"\u001b[39m\u001b[38;5;124mmiles\u001b[39m\u001b[38;5;124m\"\u001b[39m, \u001b[38;5;124m\"\u001b[39m\u001b[38;5;124mmi\u001b[39m\u001b[38;5;124m\"\u001b[39m]:\n\u001b[0;32m     31\u001b[0m     radius \u001b[38;5;241m=\u001b[39m radius_mi\n",
      "\u001b[1;31mValueError\u001b[0m: Invalid unit 'meters'. Please use one of the following: km, kilometers, miles, mi."
     ]
    }
   ],
   "source": [
    "# Creating two POIs\n",
    "poi1 = Location(\"State Capitol\", 30.4383, -84.2807)\n",
    "poi2 = Location(\"Union\", 30.4445, -84.2970)\n",
    "\n",
    "# Calculating distance between them\n",
    "distance = poi1.calculate_distance(poi2, unit = \"meters\")\n",
    "\n",
    "distance"
   ]
  },
  {
   "cell_type": "markdown",
   "metadata": {},
   "source": [
    "ValueError is raised when you use an invalid unit"
   ]
  }
 ],
 "metadata": {
  "kernelspec": {
   "display_name": ".conda",
   "language": "python",
   "name": "python3"
  },
  "language_info": {
   "codemirror_mode": {
    "name": "ipython",
    "version": 3
   },
   "file_extension": ".py",
   "mimetype": "text/x-python",
   "name": "python",
   "nbconvert_exporter": "python",
   "pygments_lexer": "ipython3",
   "version": "3.11.9"
  }
 },
 "nbformat": 4,
 "nbformat_minor": 2
}
